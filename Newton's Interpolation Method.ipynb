{
 "cells": [
  {
   "cell_type": "markdown",
   "id": "a3c18915",
   "metadata": {},
   "source": [
    "#### The following problem is solved using Newton's Interpolation Method\n",
    "\n",
    "The values of concentration measured at the exit pipe of the reactor is given below, determine the concentration c at the time t = 32.5 min using Newton's interpolating polynomial. Show the step-by-step solution and tabulate divided difference results.\n",
    "\n",
    "#### t (min) = [5, 10, 15, 20, 25, 30, 25]\n",
    "#### c (mg/m^3) = [5.02375, 41.095, 25.87625, 34.78, 40.46875, 10.355, 4.10125]\n",
    "\n",
    "The function \"m_poly\" replicates the polynomial multiplication. It takes-in two polynomials and then outputs \"prod\" in list format.\n"
   ]
  },
  {
   "cell_type": "code",
   "execution_count": 1,
   "id": "084e3756",
   "metadata": {},
   "outputs": [],
   "source": [
    "def m_poly(a, b):\n",
    "    len_a = len(a)\n",
    "    len_b = len(b)\n",
    "    \n",
    "    prod = []\n",
    "    len_prod = len_a + len_b - 1\n",
    "    \n",
    "    for i in range(len_prod):\n",
    "        prod.append(0)\n",
    "        \n",
    "    for i in range(len_a):\n",
    "        for j in range(len_b):\n",
    "            prod[i+j] += a[i] * b[j]\n",
    "    return prod"
   ]
  },
  {
   "cell_type": "markdown",
   "id": "285f752e",
   "metadata": {},
   "source": [
    "#### The function \"normal_round\" is used to round-off values from 0.5 up to 0.9 to 1. This is used instead of the built-in \"round\" function because the \"round\" function rounds the value 0.5 to 0."
   ]
  },
  {
   "cell_type": "code",
   "execution_count": 2,
   "id": "4b904407",
   "metadata": {},
   "outputs": [],
   "source": [
    "def normal_round(num, ndigits=0):\n",
    "    return round(num + (10**(-1*(ndigits+2))), ndigits)"
   ]
  },
  {
   "cell_type": "markdown",
   "id": "19853d09",
   "metadata": {},
   "source": [
    "#### Next is to get the values of x, fx, and the number of decimal places.\n",
    "\n",
    "#### During input, each numerical value should be typed seperated by a space for each equation like in the example below."
   ]
  },
  {
   "cell_type": "code",
   "execution_count": 3,
   "id": "041cdfb7",
   "metadata": {},
   "outputs": [
    {
     "name": "stdout",
     "output_type": "stream",
     "text": [
      "Input numerical values for x : 5 10 15 20 25 30 35\n",
      "Input numerical values for fx : 5.02375 41.095 25.87625 34.78 40.46875 10.355 4.10125\n",
      "Enter number of decimal places: 5\n"
     ]
    }
   ],
   "source": [
    "in_x = input(\"Input numerical values for x : \")\n",
    "x = []\n",
    "for i in in_x.split(\" \"):\n",
    "        x.append(float(i))\n",
    "\n",
    "in_fx = input(\"Input numerical values for fx : \")\n",
    "fx = []\n",
    "for i in in_fx.split(\" \"):\n",
    "        fx.append(float(i))\n",
    "\n",
    "prec = int(input(\"Enter number of decimal places: \"))"
   ]
  },
  {
   "cell_type": "markdown",
   "id": "bca0eddb",
   "metadata": {},
   "source": [
    "#### \"lstring\" will be used to format the headers of the table later at the output while \"fstring\" is used to produce a uniform number of decimal places for each output."
   ]
  },
  {
   "cell_type": "code",
   "execution_count": 4,
   "id": "04f162df",
   "metadata": {},
   "outputs": [],
   "source": [
    "lstring = \"{:>15}\" * (len(x)+1)\n",
    "fstring = \"{:.\" + str(prec) + \"f}\"\n",
    "header = [\"x\", \"f(x)\"]"
   ]
  },
  {
   "cell_type": "markdown",
   "id": "d08623f8",
   "metadata": {},
   "source": [
    "#### The following list would be used to contain all the list of values  from f(x), f'(x), f''(x),...."
   ]
  },
  {
   "cell_type": "code",
   "execution_count": 5,
   "id": "89b1952e",
   "metadata": {},
   "outputs": [],
   "source": [
    "fxp = []\n",
    "fxp.append(fx)"
   ]
  },
  {
   "cell_type": "markdown",
   "id": "92fd171a",
   "metadata": {},
   "source": [
    "#### \"term_fx\" is used to get the number of iterations. \"index\" will be used later in the loop to get the computed variable name (e.g. f(x0,  x1), f(x0, x1, x2)) later in the loop."
   ]
  },
  {
   "cell_type": "code",
   "execution_count": 6,
   "id": "4dbe26bc",
   "metadata": {},
   "outputs": [],
   "source": [
    "term_fx = 1\n",
    "index = []\n",
    "for i in range(len(x)):\n",
    "    index.append(i)"
   ]
  },
  {
   "cell_type": "markdown",
   "id": "d56a8fe7",
   "metadata": {},
   "source": [
    "#### The following block of code loops the Newton's Interpolating method until the number of iterations of the \"Finite Divided Difference\" matches the number of input values of \"x\".\n",
    "\n",
    "Those under Block 1, sets the asigned name of the computed value while those under Block 2 contains the computation (e.g. [f(x1)-f(x0)]/(x1-x0))\n",
    "\n",
    "The data from Block 1 and Block 2 are converted into string format and are stored on a variable \"string\" which is then printed out as shown at the output below."
   ]
  },
  {
   "cell_type": "code",
   "execution_count": 7,
   "id": "521d9120",
   "metadata": {},
   "outputs": [
    {
     "name": "stdout",
     "output_type": "stream",
     "text": [
      "----------Finite Divided Difference 1----------\n",
      "f(x0, x1)  =  (41.095 - 5.02375) / (10.0 - 5.0)  =  7.21425\n",
      "f(x1, x2)  =  (25.87625 - 41.095) / (15.0 - 10.0)  =  -3.04375\n",
      "f(x2, x3)  =  (34.78 - 25.87625) / (20.0 - 15.0)  =  1.78075\n",
      "f(x3, x4)  =  (40.46875 - 34.78) / (25.0 - 20.0)  =  1.13775\n",
      "f(x4, x5)  =  (10.355 - 40.46875) / (30.0 - 25.0)  =  -6.02275\n",
      "f(x5, x6)  =  (4.10125 - 10.355) / (35.0 - 30.0)  =  -1.25075\n",
      "\n",
      "----------Finite Divided Difference 2----------\n",
      "f(x0, x1, x2)  =  (-3.04375 - 7.21425) / (15.0 - 5.0)  =  -1.02580\n",
      "f(x1, x2, x3)  =  (1.78075 - -3.04375) / (20.0 - 10.0)  =  0.48245\n",
      "f(x2, x3, x4)  =  (1.13775 - 1.78075) / (25.0 - 15.0)  =  -0.06430\n",
      "f(x3, x4, x5)  =  (-6.02275 - 1.13775) / (30.0 - 20.0)  =  -0.71605\n",
      "f(x4, x5, x6)  =  (-1.25075 - -6.02275) / (35.0 - 25.0)  =  0.47720\n",
      "\n",
      "----------Finite Divided Difference 3----------\n",
      "f(x0, x1, x2, x3)  =  (0.48245 - -1.0258) / (20.0 - 5.0)  =  0.10055\n",
      "f(x1, x2, x3, x4)  =  (-0.0643 - 0.48245) / (25.0 - 10.0)  =  -0.03645\n",
      "f(x2, x3, x4, x5)  =  (-0.71605 - -0.0643) / (30.0 - 15.0)  =  -0.04345\n",
      "f(x3, x4, x5, x6)  =  (0.4772 - -0.71605) / (35.0 - 20.0)  =  0.07955\n",
      "\n",
      "----------Finite Divided Difference 4----------\n",
      "f(x0, x1, x2, x3, x4)  =  (-0.03645 - 0.10055) / (25.0 - 5.0)  =  -0.00685\n",
      "f(x1, x2, x3, x4, x5)  =  (-0.04345 - -0.03645) / (30.0 - 10.0)  =  -0.00035\n",
      "f(x2, x3, x4, x5, x6)  =  (0.07955 - -0.04345) / (35.0 - 15.0)  =  0.00615\n",
      "\n",
      "----------Finite Divided Difference 5----------\n",
      "f(x0, x1, x2, x3, x4, x5)  =  (-0.00035 - -0.00685) / (30.0 - 5.0)  =  0.00026\n",
      "f(x1, x2, x3, x4, x5, x6)  =  (0.00615 - -0.00035) / (35.0 - 10.0)  =  0.00026\n",
      "\n",
      "----------Finite Divided Difference 6----------\n",
      "f(x0, x1, x2, x3, x4, x5, x6)  =  (0.00026 - 0.00026) / (35.0 - 5.0)  =  0.00000\n",
      "\n",
      "\n"
     ]
    }
   ],
   "source": [
    "while term_fx <= len(x):\n",
    "    if term_fx < len(x):\n",
    "        print(\"----------Finite Divided Difference \" + str(term_fx) + \"----------\")\n",
    "        header.append(\"f\" + \"'\" * term_fx + \"(x)\")\n",
    "        temp_list = []\n",
    "    for i in range(term_fx , len(x)):\n",
    "        # Block 1\n",
    "        string = \"f(\"\n",
    "        for j in index[i-term_fx:i+1]:\n",
    "            string += \"x\" + str(j) + \", \"\n",
    "        string = string[:-2] + \")  =  \"\n",
    "        \n",
    "        # Block 2\n",
    "        answer = normal_round((fxp[term_fx-1][i - (term_fx - 1)] - fxp[term_fx-1][i-term_fx]) / (x[i] - x[i-term_fx]), prec)\n",
    "        temp_list.append(answer)\n",
    "        string += (\"(\" + str(fxp[term_fx-1][i - (term_fx-1)]) + \" - \" + str(fxp[term_fx-1][i-term_fx]) + \") / (\" + str(x[i]) \n",
    "                   + \" - \" + str(x[i-term_fx]) + \")  =  \" + fstring.format(answer))\n",
    "        print(string)\n",
    "    \n",
    "    fxp.append(temp_list)\n",
    "\n",
    "    term_fx += 1\n",
    "    print(\"\")"
   ]
  },
  {
   "cell_type": "markdown",
   "id": "a616c0c1",
   "metadata": {},
   "source": [
    "#### The lists inside the list \"fxp\" are first ensured to have unform length by adding a number of \"-\" at the end of each list.\n",
    "\n",
    "#### Then the whole table table will now be printed out as shown below."
   ]
  },
  {
   "cell_type": "code",
   "execution_count": 8,
   "id": "c55d17f5",
   "metadata": {},
   "outputs": [
    {
     "name": "stdout",
     "output_type": "stream",
     "text": [
      "Tabulated Divided Difference Results\n",
      "              x           f(x)          f'(x)         f''(x)        f'''(x)       f''''(x)      f'''''(x)     f''''''(x)\n",
      "            5.0        5.02375        7.21425       -1.02580        0.10055       -0.00685        0.00026        0.00000\n",
      "           10.0       41.09500       -3.04375        0.48245       -0.03645       -0.00035        0.00026              -\n",
      "           15.0       25.87625        1.78075       -0.06430       -0.04345        0.00615              -              -\n",
      "           20.0       34.78000        1.13775       -0.71605        0.07955              -              -              -\n",
      "           25.0       40.46875       -6.02275        0.47720              -              -              -              -\n",
      "           30.0       10.35500       -1.25075              -              -              -              -              -\n",
      "           35.0        4.10125              -              -              -              -              -              -\n"
     ]
    }
   ],
   "source": [
    "print(\"Tabulated Divided Difference Results\")\n",
    "for i in fxp:\n",
    "    if len(i) < len(fxp[0]):\n",
    "        for j in range(len(fxp[0]) - len(i)):\n",
    "            i.append(\"-\")\n",
    "\n",
    "# Format the table\n",
    "table = []\n",
    "for i in range(len(fxp[0])):\n",
    "    temp = []\n",
    "    for j in range(len(fxp)):\n",
    "        if fxp[j][i] != \"-\":\n",
    "            temp.append(fstring.format(fxp[j][i]))\n",
    "        else: \n",
    "            temp.append(fxp[j][i])\n",
    "    table.append(temp)\n",
    "#print(table)\n",
    "print(lstring.format(*header))\n",
    "for x_val, i in zip(x, table):\n",
    "    print(lstring.format(x_val, *i))"
   ]
  },
  {
   "cell_type": "markdown",
   "id": "0b51ce47",
   "metadata": {},
   "source": [
    "#### The first value for each list in the list \"fxp\" are then placed on a list \"b\" then shown on screen."
   ]
  },
  {
   "cell_type": "code",
   "execution_count": 9,
   "id": "25898e4b",
   "metadata": {},
   "outputs": [
    {
     "name": "stdout",
     "output_type": "stream",
     "text": [
      "\n",
      "The coefficients then,\n",
      "b0  =  5.02375    b1  =  7.21425    b2  =  -1.02580    b3  =  0.10055    b4  =  -0.00685    b5  =  0.00026    \n"
     ]
    }
   ],
   "source": [
    "print(\"\\nThe coefficients then,\")\n",
    "b = []\n",
    "bstr = \"\"\n",
    "n = 0\n",
    "for i in range(len(table)):\n",
    "    b.append(0)\n",
    "    if abs(float(table[0][i])) > 0:\n",
    "        b[i] = table[0][i]\n",
    "        bstr += \"b\" + str(i) + \"  =  \" + str(b[i]) + \"    \"\n",
    "        n = i\n",
    "print(bstr)"
   ]
  },
  {
   "cell_type": "markdown",
   "id": "8879c123",
   "metadata": {},
   "source": [
    "#### The general from of the Newton's Divided Difference Interpolation,\n",
    "\n",
    "fn(x) = b0 + b1(x - x0) + b2(x - x0)(x - x1) + b3(x - x0)(x - x1)(x - x2) + ...bn(x - x0)(x - xn-1)\n",
    "\n",
    "#### is performed by the following code."
   ]
  },
  {
   "cell_type": "code",
   "execution_count": 10,
   "id": "15c054e5",
   "metadata": {},
   "outputs": [
    {
     "name": "stdout",
     "output_type": "stream",
     "text": [
      "\n",
      "Substituting the coefficients,\n",
      "5.02375  +  7.21425(x - 5.0)  +  -1.02580(x - 5.0)(x - 10.0)  +  0.10055(x - 5.0)(x - 10.0)(x - 15.0)  +  -0.00685(x - 5.0)(x - 10.0)(x - 15.0)(x - 20.0)  +  0.00026(x - 5.0)(x - 10.0)(x - 15.0)(x - 20.0)(x - 25.0)  =  f5(x)\n"
     ]
    }
   ],
   "source": [
    "product = []\n",
    "f3x_str = \"\"\n",
    "print(\"\\nSubstituting the coefficients,\")\n",
    "for i in range(len(b)):\n",
    "    if abs(float(b[i])) > 0:\n",
    "        f3x_str += str(b[i])\n",
    "        prod = [1]\n",
    "        \n",
    "        if i == 0:\n",
    "            prod[0] = normal_round(prod[0]*float(b[i]), prec)\n",
    "        else:\n",
    "            for j in range(i):\n",
    "                f3x_str += \"(x - \" + str(x[j]) + \")\"\n",
    "                prod = m_poly(prod, [1, -x[j]])\n",
    "\n",
    "            # Multiply the product by b\n",
    "            for k in range(len(prod)):\n",
    "                #print(prod[k], float(b[i]))\n",
    "                prod[k] = normal_round(prod[k] * float(b[i]), prec)\n",
    "                \n",
    "        product.append(prod)\n",
    "        f3x_str += \"  +  \"\n",
    "print(f3x_str[:-5] + \"  =  f\" + str(n) + \"(x)\")"
   ]
  },
  {
   "cell_type": "markdown",
   "id": "09c2265c",
   "metadata": {},
   "source": [
    "#### Insert zeroes at the beginning of the each list to match number of terms of the last list."
   ]
  },
  {
   "cell_type": "code",
   "execution_count": 11,
   "id": "d9c4d87c",
   "metadata": {},
   "outputs": [
    {
     "name": "stdout",
     "output_type": "stream",
     "text": [
      "Before adding zeroes: \n",
      "[5.02375]\n",
      "[7.21425, -36.07125]\n",
      "[-1.0258, 15.387, -51.29]\n",
      "[0.10055, -3.0165, 27.65125, -75.4125]\n",
      "[-0.00685, 0.3425, -5.99375, 42.8125, -102.75]\n",
      "[0.00026, -0.0195, 0.5525, -7.3125, 44.525, -97.5]\n",
      "\n",
      "After adding zeroes: \n",
      "[0, 0, 0, 0, 0, 5.02375]\n",
      "[0, 0, 0, 0, 7.21425, -36.07125]\n",
      "[0, 0, 0, -1.0258, 15.387, -51.29]\n",
      "[0, 0, 0.10055, -3.0165, 27.65125, -75.4125]\n",
      "[0, -0.00685, 0.3425, -5.99375, 42.8125, -102.75]\n",
      "[0.00026, -0.0195, 0.5525, -7.3125, 44.525, -97.5]\n"
     ]
    }
   ],
   "source": [
    "# Insert zeros at the beginning of the list to match number of terms\n",
    "print(\"Before adding zeroes: \")\n",
    "for i in product:\n",
    "    print(i)\n",
    "    \n",
    "for i in product:\n",
    "    if len(i) < len(product[-1]):\n",
    "        for j in range(len(product[-1]) - len(i)):\n",
    "            i.insert(0, 0)\n",
    "            \n",
    "print(\"\\nAfter adding zeroes: \")\n",
    "for i in product:\n",
    "    print(i)"
   ]
  },
  {
   "cell_type": "markdown",
   "id": "61d15bd1",
   "metadata": {},
   "source": [
    "#### The final equation can now be computed by summing up the values by row."
   ]
  },
  {
   "cell_type": "code",
   "execution_count": 12,
   "id": "7bc67781",
   "metadata": {},
   "outputs": [
    {
     "name": "stdout",
     "output_type": "stream",
     "text": [
      "\n",
      "f5(x)  =  0.00026(x)^5  +  -0.02635(x)^4  +  0.99555(x)^3  +  -17.34855(x)^2  +  137.59(x)^1  +  -358.0\n"
     ]
    }
   ],
   "source": [
    "total = []\n",
    "for i in range(len(product)):\n",
    "    total.append(0)\n",
    "    \n",
    "for i in range(len(product)):\n",
    "    for j in range(len(product[i])):\n",
    "        total[j] += normal_round(product[i][j], prec)\n",
    "\n",
    "t_str = \"\"\n",
    "for i in range(len(total)):\n",
    "    if i < len(total) - 1:\n",
    "        t_str += str(total[i]) + \"(x)^\" + str(len(total)-(i+1)) + \"  +  \"\n",
    "    else:\n",
    "        t_str += str(total[i])\n",
    "t_str = \"\\nf\" + str(n) + \"(x)  =  \" + t_str\n",
    "print(t_str)"
   ]
  },
  {
   "cell_type": "markdown",
   "id": "c24e03a1",
   "metadata": {},
   "source": [
    "#### The following code ask for user input of a new value of x and predicts its fx value."
   ]
  },
  {
   "cell_type": "code",
   "execution_count": 13,
   "id": "402b2c4b",
   "metadata": {},
   "outputs": [
    {
     "name": "stdout",
     "output_type": "stream",
     "text": [
      "\n",
      "Enter a new value for x: 32.5\n",
      "\n",
      "f5(32.5)  =  0.00026(32.5)^5  +  -0.02635(32.5)^4  +  0.99555(32.5)^3  +  -17.34855(32.5)^2  +  137.59(32.5)^1  +  -358.0\n",
      "f5(32.5)  =  -5.75281\n"
     ]
    }
   ],
   "source": [
    "new_x = float(input(\"\\nEnter a new value for x: \"))\n",
    "new_y = 0\n",
    "for i in range(len(total)):\n",
    "    if i < len(total) - 1:\n",
    "        new_y += total[i] * (new_x**(len(total) - (i+1)))\n",
    "    else:\n",
    "        new_y += total[i]\n",
    "new_y = normal_round(new_y, prec)\n",
    "t_str = t_str.replace(\"x\", str(new_x))\n",
    "print(t_str)\n",
    "print(\"f\" + str(n) + \"(\" + str(new_x) + \")  =  \" + str(new_y))"
   ]
  },
  {
   "cell_type": "markdown",
   "id": "f3e40c48",
   "metadata": {},
   "source": [
    "## Full Code and Output"
   ]
  },
  {
   "cell_type": "code",
   "execution_count": 14,
   "id": "b8d125fa",
   "metadata": {},
   "outputs": [
    {
     "name": "stdout",
     "output_type": "stream",
     "text": [
      "Input numerical values for x : 5 10 15 20 25 30 35\n",
      "Input numerical values for fx : 5.02375 41.095 25.87625 34.78 40.46875 10.355 4.10125\n",
      "Enter number of decimal places: 5\n",
      "----------Finite Divided Difference 1----------\n",
      "f(x0, x1)  =  (41.095 - 5.02375) / (10.0 - 5.0)  =  7.21425\n",
      "f(x1, x2)  =  (25.87625 - 41.095) / (15.0 - 10.0)  =  -3.04375\n",
      "f(x2, x3)  =  (34.78 - 25.87625) / (20.0 - 15.0)  =  1.78075\n",
      "f(x3, x4)  =  (40.46875 - 34.78) / (25.0 - 20.0)  =  1.13775\n",
      "f(x4, x5)  =  (10.355 - 40.46875) / (30.0 - 25.0)  =  -6.02275\n",
      "f(x5, x6)  =  (4.10125 - 10.355) / (35.0 - 30.0)  =  -1.25075\n",
      "\n",
      "----------Finite Divided Difference 2----------\n",
      "f(x0, x1, x2)  =  (-3.04375 - 7.21425) / (15.0 - 5.0)  =  -1.02580\n",
      "f(x1, x2, x3)  =  (1.78075 - -3.04375) / (20.0 - 10.0)  =  0.48245\n",
      "f(x2, x3, x4)  =  (1.13775 - 1.78075) / (25.0 - 15.0)  =  -0.06430\n",
      "f(x3, x4, x5)  =  (-6.02275 - 1.13775) / (30.0 - 20.0)  =  -0.71605\n",
      "f(x4, x5, x6)  =  (-1.25075 - -6.02275) / (35.0 - 25.0)  =  0.47720\n",
      "\n",
      "----------Finite Divided Difference 3----------\n",
      "f(x0, x1, x2, x3)  =  (0.48245 - -1.0258) / (20.0 - 5.0)  =  0.10055\n",
      "f(x1, x2, x3, x4)  =  (-0.0643 - 0.48245) / (25.0 - 10.0)  =  -0.03645\n",
      "f(x2, x3, x4, x5)  =  (-0.71605 - -0.0643) / (30.0 - 15.0)  =  -0.04345\n",
      "f(x3, x4, x5, x6)  =  (0.4772 - -0.71605) / (35.0 - 20.0)  =  0.07955\n",
      "\n",
      "----------Finite Divided Difference 4----------\n",
      "f(x0, x1, x2, x3, x4)  =  (-0.03645 - 0.10055) / (25.0 - 5.0)  =  -0.00685\n",
      "f(x1, x2, x3, x4, x5)  =  (-0.04345 - -0.03645) / (30.0 - 10.0)  =  -0.00035\n",
      "f(x2, x3, x4, x5, x6)  =  (0.07955 - -0.04345) / (35.0 - 15.0)  =  0.00615\n",
      "\n",
      "----------Finite Divided Difference 5----------\n",
      "f(x0, x1, x2, x3, x4, x5)  =  (-0.00035 - -0.00685) / (30.0 - 5.0)  =  0.00026\n",
      "f(x1, x2, x3, x4, x5, x6)  =  (0.00615 - -0.00035) / (35.0 - 10.0)  =  0.00026\n",
      "\n",
      "----------Finite Divided Difference 6----------\n",
      "f(x0, x1, x2, x3, x4, x5, x6)  =  (0.00026 - 0.00026) / (35.0 - 5.0)  =  0.00000\n",
      "\n",
      "\n",
      "Tabulated Divided Difference Results\n",
      "              x           f(x)          f'(x)         f''(x)        f'''(x)       f''''(x)      f'''''(x)     f''''''(x)\n",
      "            5.0        5.02375        7.21425       -1.02580        0.10055       -0.00685        0.00026        0.00000\n",
      "           10.0       41.09500       -3.04375        0.48245       -0.03645       -0.00035        0.00026              -\n",
      "           15.0       25.87625        1.78075       -0.06430       -0.04345        0.00615              -              -\n",
      "           20.0       34.78000        1.13775       -0.71605        0.07955              -              -              -\n",
      "           25.0       40.46875       -6.02275        0.47720              -              -              -              -\n",
      "           30.0       10.35500       -1.25075              -              -              -              -              -\n",
      "           35.0        4.10125              -              -              -              -              -              -\n",
      "\n",
      "The coefficients then,\n",
      "b0  =  5.02375    b1  =  7.21425    b2  =  -1.02580    b3  =  0.10055    b4  =  -0.00685    b5  =  0.00026    \n",
      "\n",
      "Substituting the coefficients,\n",
      "5.02375  +  7.21425(x - 5.0)  +  -1.02580(x - 5.0)(x - 10.0)  +  0.10055(x - 5.0)(x - 10.0)(x - 15.0)  +  -0.00685(x - 5.0)(x - 10.0)(x - 15.0)(x - 20.0)  +  0.00026(x - 5.0)(x - 10.0)(x - 15.0)(x - 20.0)(x - 25.0)  =  f5(x)\n",
      "\n",
      "f5(x)  =  0.00026(x)^5  +  -0.02635(x)^4  +  0.99555(x)^3  +  -17.34855(x)^2  +  137.59(x)^1  +  -358.0\n",
      "\n",
      "Enter a new value for x: 32.5\n",
      "\n",
      "f5(32.5)  =  0.00026(32.5)^5  +  -0.02635(32.5)^4  +  0.99555(32.5)^3  +  -17.34855(32.5)^2  +  137.59(32.5)^1  +  -358.0\n",
      "f5(32.5)  =  -5.75281\n"
     ]
    }
   ],
   "source": [
    "def m_poly(a, b):\n",
    "    len_a = len(a)\n",
    "    len_b = len(b)\n",
    "    \n",
    "    prod = []\n",
    "    len_prod = len_a + len_b - 1\n",
    "    \n",
    "    for i in range(len_prod):\n",
    "        prod.append(0)\n",
    "        \n",
    "    for i in range(len_a):\n",
    "        for j in range(len_b):\n",
    "            prod[i+j] += a[i] * b[j]\n",
    "    return prod\n",
    "\n",
    "def normal_round(num, ndigits=0):\n",
    "    return round(num + (10**(-1*(ndigits+2))), ndigits)\n",
    "\n",
    "in_x = input(\"Input numerical values for x : \")\n",
    "x = []\n",
    "for i in in_x.split(\" \"):\n",
    "        x.append(float(i))\n",
    "\n",
    "in_fx = input(\"Input numerical values for fx : \")\n",
    "fx = []\n",
    "for i in in_fx.split(\" \"):\n",
    "        fx.append(float(i))\n",
    "\n",
    "prec = int(input(\"Enter number of decimal places: \"))\n",
    "\n",
    "lstring = \"{:>15}\" * (len(x)+1)\n",
    "fstring = \"{:.\" + str(prec) + \"f}\"\n",
    "header = [\"x\", \"f(x)\"]\n",
    "\n",
    "fxp = []\n",
    "fxp.append(fx)\n",
    "\n",
    "term_fx = 1\n",
    "index = []\n",
    "for i in range(len(x)):\n",
    "    index.append(i)\n",
    "    \n",
    "while term_fx <= len(x):\n",
    "    if term_fx < len(x):\n",
    "        print(\"----------Finite Divided Difference \" + str(term_fx) + \"----------\")\n",
    "        header.append(\"f\" + \"'\" * term_fx + \"(x)\")\n",
    "        temp_list = []\n",
    "    for i in range(term_fx , len(x)):\n",
    "        # Block 1\n",
    "        string = \"f(\"\n",
    "        for j in index[i-term_fx:i+1]:\n",
    "            string += \"x\" + str(j) + \", \"\n",
    "        string = string[:-2] + \")  =  \"\n",
    "        \n",
    "        # Block 2\n",
    "        answer = normal_round((fxp[term_fx-1][i - (term_fx - 1)] - fxp[term_fx-1][i-term_fx]) / (x[i] - x[i-term_fx]), prec)\n",
    "        temp_list.append(answer)\n",
    "        string += (\"(\" + str(fxp[term_fx-1][i - (term_fx-1)]) + \" - \" + str(fxp[term_fx-1][i-term_fx]) + \") / (\" + str(x[i]) \n",
    "                   + \" - \" + str(x[i-term_fx]) + \")  =  \" + fstring.format(answer))\n",
    "        print(string)\n",
    "    \n",
    "    fxp.append(temp_list)\n",
    "\n",
    "    term_fx += 1\n",
    "    print(\"\")\n",
    "    \n",
    "print(\"Tabulated Divided Difference Results\")\n",
    "for i in fxp:\n",
    "    if len(i) < len(fxp[0]):\n",
    "        for j in range(len(fxp[0]) - len(i)):\n",
    "            i.append(\"-\")\n",
    "\n",
    "# Format the table\n",
    "table = []\n",
    "for i in range(len(fxp[0])):\n",
    "    temp = []\n",
    "    for j in range(len(fxp)):\n",
    "        if fxp[j][i] != \"-\":\n",
    "            temp.append(fstring.format(fxp[j][i]))\n",
    "        else: \n",
    "            temp.append(fxp[j][i])\n",
    "    table.append(temp)\n",
    "#print(table)\n",
    "print(lstring.format(*header))\n",
    "for x_val, i in zip(x, table):\n",
    "    print(lstring.format(x_val, *i))\n",
    "    \n",
    "print(\"\\nThe coefficients then,\")\n",
    "b = []\n",
    "bstr = \"\"\n",
    "n = 0\n",
    "for i in range(len(table)):\n",
    "    b.append(0)\n",
    "    if abs(float(table[0][i])) > 0:\n",
    "        b[i] = table[0][i]\n",
    "        bstr += \"b\" + str(i) + \"  =  \" + str(b[i]) + \"    \"\n",
    "        n = i\n",
    "print(bstr)\n",
    "\n",
    "product = []\n",
    "f3x_str = \"\"\n",
    "print(\"\\nSubstituting the coefficients,\")\n",
    "for i in range(len(b)):\n",
    "    if abs(float(b[i])) > 0:\n",
    "        f3x_str += str(b[i])\n",
    "        prod = [1]\n",
    "        \n",
    "        if i == 0:\n",
    "            prod[0] = normal_round(prod[0]*float(b[i]), prec)\n",
    "        else:\n",
    "            for j in range(i):\n",
    "                f3x_str += \"(x - \" + str(x[j]) + \")\"\n",
    "                prod = m_poly(prod, [1, -x[j]])\n",
    "\n",
    "            # Multiply the product by b\n",
    "            for k in range(len(prod)):\n",
    "                #print(prod[k], float(b[i]))\n",
    "                prod[k] = normal_round(prod[k] * float(b[i]), prec)\n",
    "                \n",
    "        product.append(prod)\n",
    "        f3x_str += \"  +  \"\n",
    "print(f3x_str[:-5] + \"  =  f\" + str(n) + \"(x)\")\n",
    "\n",
    "for i in product:\n",
    "    if len(i) < len(product[-1]):\n",
    "        for j in range(len(product[-1]) - len(i)):\n",
    "            i.insert(0, 0)\n",
    "            \n",
    "total = []\n",
    "for i in range(len(product)):\n",
    "    total.append(0)\n",
    "    \n",
    "for i in range(len(product)):\n",
    "    for j in range(len(product[i])):\n",
    "        total[j] += normal_round(product[i][j], prec)\n",
    "\n",
    "t_str = \"\"\n",
    "for i in range(len(total)):\n",
    "    if i < len(total) - 1:\n",
    "        t_str += str(total[i]) + \"(x)^\" + str(len(total)-(i+1)) + \"  +  \"\n",
    "    else:\n",
    "        t_str += str(total[i])\n",
    "t_str = \"\\nf\" + str(n) + \"(x)  =  \" + t_str\n",
    "print(t_str)\n",
    "\n",
    "new_x = float(input(\"\\nEnter a new value for x: \"))\n",
    "new_y = 0\n",
    "for i in range(len(total)):\n",
    "    if i < len(total) - 1:\n",
    "        new_y += total[i] * (new_x**(len(total) - (i+1)))\n",
    "    else:\n",
    "        new_y += total[i]\n",
    "new_y = normal_round(new_y, prec)\n",
    "t_str = t_str.replace(\"x\", str(new_x))\n",
    "print(t_str)\n",
    "print(\"f\" + str(n) + \"(\" + str(new_x) + \")  =  \" + str(new_y))"
   ]
  }
 ],
 "metadata": {
  "kernelspec": {
   "display_name": "Python 3 (ipykernel)",
   "language": "python",
   "name": "python3"
  },
  "language_info": {
   "codemirror_mode": {
    "name": "ipython",
    "version": 3
   },
   "file_extension": ".py",
   "mimetype": "text/x-python",
   "name": "python",
   "nbconvert_exporter": "python",
   "pygments_lexer": "ipython3",
   "version": "3.9.7"
  }
 },
 "nbformat": 4,
 "nbformat_minor": 5
}
