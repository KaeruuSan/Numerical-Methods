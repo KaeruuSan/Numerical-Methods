{
 "cells": [
  {
   "cell_type": "markdown",
   "id": "110d793e",
   "metadata": {},
   "source": [
    "#### The following problem is solved using the Backward Finite Divided Difference\n",
    "\n",
    "Estimate the derivative of the function in problem (1) at the x = 0.75 using the following step sizes h = 0.125, 0.0625, and 0.03125."
   ]
  },
  {
   "cell_type": "code",
   "execution_count": 1,
   "id": "64d499d3",
   "metadata": {},
   "outputs": [],
   "source": [
    "import math\n",
    "\n",
    "def normal_round(num, ndigits=0):\n",
    "    return round(num + (10**(-1*(ndigits+2))), ndigits)\n",
    "\n",
    "def f(x):\n",
    "    fx = eval(equation)\n",
    "    return fx"
   ]
  },
  {
   "cell_type": "markdown",
   "id": "eced68b6",
   "metadata": {},
   "source": [
    "#### The program then asks for the equation, precision, xi, and the values of the step sizes."
   ]
  },
  {
   "cell_type": "code",
   "execution_count": 2,
   "id": "6c8d5fc3",
   "metadata": {},
   "outputs": [
    {
     "name": "stdout",
     "output_type": "stream",
     "text": [
      "Enter you equation here: (1/math.sqrt(2*math.pi))*math.exp(-0.5*x**2)\n",
      "Enter number  of decimal places: 5\n",
      "Enter value for xi: 0.75\n",
      "Enter values for step size (seperated by space): 0.125 0.0625 0.03125\n"
     ]
    }
   ],
   "source": [
    "equation = input(\"Enter you equation here: \")\n",
    "prec = int(input(\"Enter number  of decimal places: \"))\n",
    "\n",
    "xi = normal_round(float(input(\"Enter value for xi: \")), prec)\n",
    "h = input(\"Enter values for step size (seperated by space): \")"
   ]
  },
  {
   "cell_type": "markdown",
   "id": "9ef00a12",
   "metadata": {},
   "source": [
    "#### The following operations are performed and shown in table format"
   ]
  },
  {
   "cell_type": "code",
   "execution_count": 3,
   "id": "3b8f5930",
   "metadata": {},
   "outputs": [
    {
     "name": "stdout",
     "output_type": "stream",
     "text": [
      "\n",
      "Backward Finite Divided Difference\n",
      "h         f(xi)     xi-1      f(xi-1)   f'(xi)    \n",
      "0.125     0.30114   0.625     0.32816   -0.21616  \n",
      "0.0625    0.30114   0.6875    0.31497   -0.22128  \n",
      "0.03125   0.30114   0.71875   0.30813   -0.22368  \n",
      "\n"
     ]
    }
   ],
   "source": [
    "h_list = [float(x) for x in h.split(\" \")]\n",
    "    \n",
    "header = [\"h\", \"f(xi)\", \"xi-1\", \"f(xi-1)\", \"f'(xi)\"]\n",
    "lstring = \"{:<10}\" * (len(header))\n",
    "\n",
    "print(\"\")\n",
    "print(\"Backward Finite Divided Difference\")\n",
    "print(lstring.format(*header))\n",
    "\n",
    "fxi = normal_round(f(xi), prec)\n",
    "\n",
    "fpxi_list = [[]]\n",
    "\n",
    "for step in h_list:\n",
    "    string = \"\"\n",
    "    string += '%-10s' % str(step)\n",
    "    string += '%-10s' % str(fxi)\n",
    "    \n",
    "    xi_1 = xi - step\n",
    "    string += '%-10s' % str(xi_1)\n",
    "    \n",
    "    fxi_1 = normal_round(f(xi_1), prec)\n",
    "    string += '%-10s' % str(fxi_1)\n",
    "    \n",
    "    fpxi = normal_round((fxi-fxi_1)/step, prec)\n",
    "    string += '%-10s' % str(fpxi)\n",
    "    \n",
    "    fpxi_list[0].append(fpxi)\n",
    "    \n",
    "    print(string)\n",
    "\n",
    "print(\"\")"
   ]
  },
  {
   "cell_type": "markdown",
   "id": "60633723",
   "metadata": {},
   "source": [
    "#### The program then performs the Richardson's Extrapolation and lists the values in table format."
   ]
  },
  {
   "cell_type": "code",
   "execution_count": 4,
   "id": "5ef682ec",
   "metadata": {},
   "outputs": [
    {
     "name": "stdout",
     "output_type": "stream",
     "text": [
      "Richardson's Extrapolation\n",
      "h         D(n=1)    D(n=2)    D(n=3)    \n",
      "0.125     -0.21616  -0.22299  -0.22469  \n",
      "0.0625    -0.22128  -0.22448            \n",
      "0.03125   -0.22368                      \n"
     ]
    }
   ],
   "source": [
    "header = [\"h\"]\n",
    "for i in range(len(h_list)):\n",
    "    header.append(\"D(n=\" + str(i+1) + \")\")\n",
    "lstring = \"{:<10}\" * (len(header))\n",
    "\n",
    "print(\"Richardson's Extrapolation\")\n",
    "print(lstring.format(*header))\n",
    "\n",
    "n = 0\n",
    "while n < len(h_list) - 1:\n",
    "    fpxi_list.append([])\n",
    "    for i in range(len(fpxi_list[n]) - 1):\n",
    "        d = normal_round(fpxi_list[n][i+1] + (1/(2**(n+2)-1))*(fpxi_list[n][i+1] - fpxi_list[n][i]), 5)\n",
    "        fpxi_list[-1].append(d)\n",
    "    n += 1\n",
    "\n",
    "for i in fpxi_list:\n",
    "    if len(i) < len(fpxi_list[0]):\n",
    "        for j in range(len(fpxi_list[0]) - len(i)):\n",
    "            i.append(\" \")\n",
    "            \n",
    "for i, j in enumerate(fpxi_list):\n",
    "    string = \"\"\n",
    "    string += '%-10s' % str(h_list[i])\n",
    "    \n",
    "    for g, h in enumerate(fpxi_list):\n",
    "        string += '%-10s' % fpxi_list[g][i]\n",
    "    \n",
    "    print(string)"
   ]
  },
  {
   "cell_type": "markdown",
   "id": "74ec5d51",
   "metadata": {},
   "source": [
    "## Full Code and Output"
   ]
  },
  {
   "cell_type": "code",
   "execution_count": 6,
   "id": "dd3c3131",
   "metadata": {},
   "outputs": [
    {
     "name": "stdout",
     "output_type": "stream",
     "text": [
      "Enter you equation here: (1/math.sqrt(2*math.pi))*math.exp(-0.5*x**2)\n",
      "Enter number  of decimal places: 5\n",
      "Enter value for xi: 0.75\n",
      "Enter values for step size (seperated by space): 0.5 0.25 0.125 0.0625\n",
      "\n",
      "Backward Finite Divided Difference\n",
      "h         f(xi)     xi-1      f(xi-1)   f'(xi)    \n",
      "0.5       0.30114   0.25      0.38667   -0.17106  \n",
      "0.25      0.30114   0.5       0.35207   -0.20372  \n",
      "0.125     0.30114   0.625     0.32816   -0.21616  \n",
      "0.0625    0.30114   0.6875    0.31497   -0.22128  \n",
      "\n",
      "Richardson's Extrapolation\n",
      "h         D(n=1)    D(n=2)    D(n=3)    D(n=4)    \n",
      "0.5       -0.17106  -0.21461  -0.22112  -0.22352  \n",
      "0.25      -0.20372  -0.22031  -0.22337            \n",
      "0.125     -0.21616  -0.22299                      \n",
      "0.0625    -0.22128                                \n"
     ]
    }
   ],
   "source": [
    "import math\n",
    "\n",
    "def normal_round(num, ndigits=0):\n",
    "    return round(num + (10**(-1*(ndigits+2))), ndigits)\n",
    "\n",
    "def f(x):\n",
    "    fx = eval(equation)\n",
    "    fx = (1/math.sqrt(2*math.pi))*math.exp(-0.5*x**2)\n",
    "    return fx\n",
    "\n",
    "equation = input(\"Enter you equation here: \")\n",
    "prec = int(input(\"Enter number  of decimal places: \"))\n",
    "\n",
    "xi = normal_round(float(input(\"Enter value for xi: \")), prec)\n",
    "h = input(\"Enter values for step size (seperated by space): \")\n",
    "\n",
    "h_list = [float(x) for x in h.split(\" \")]\n",
    "    \n",
    "header = [\"h\", \"f(xi)\", \"xi-1\", \"f(xi-1)\", \"f'(xi)\"]\n",
    "lstring = \"{:<10}\" * (len(header))\n",
    "\n",
    "print(\"\")\n",
    "print(\"Backward Finite Divided Difference\")\n",
    "print(lstring.format(*header))\n",
    "\n",
    "fxi = normal_round(f(xi), prec)\n",
    "\n",
    "fpxi_list = [[]]\n",
    "\n",
    "for step in h_list:\n",
    "    string = \"\"\n",
    "    string += '%-10s' % str(step)\n",
    "    string += '%-10s' % str(fxi)\n",
    "    \n",
    "    xi_1 = xi - step\n",
    "    string += '%-10s' % str(xi_1)\n",
    "    \n",
    "    fxi_1 = normal_round(f(xi_1), prec)\n",
    "    string += '%-10s' % str(fxi_1)\n",
    "    \n",
    "    fpxi = normal_round((fxi-fxi_1)/step, prec)\n",
    "    string += '%-10s' % str(fpxi)\n",
    "    \n",
    "    fpxi_list[0].append(fpxi)\n",
    "    \n",
    "    print(string)\n",
    "\n",
    "print(\"\")\n",
    "\n",
    "header = [\"h\"]\n",
    "for i in range(len(h_list)):\n",
    "    header.append(\"D(n=\" + str(i+1) + \")\")\n",
    "lstring = \"{:<10}\" * (len(header))\n",
    "\n",
    "print(\"Richardson's Extrapolation\")\n",
    "print(lstring.format(*header))\n",
    "\n",
    "n = 0\n",
    "while n < len(h_list) - 1:\n",
    "    fpxi_list.append([])\n",
    "    for i in range(len(fpxi_list[n]) - 1):\n",
    "        d = normal_round(fpxi_list[n][i+1] + (1/(2**(n+2)-1))*(fpxi_list[n][i+1] - fpxi_list[n][i]), 5)\n",
    "        fpxi_list[-1].append(d)\n",
    "    n += 1\n",
    "\n",
    "for i in fpxi_list:\n",
    "    if len(i) < len(fpxi_list[0]):\n",
    "        for j in range(len(fpxi_list[0]) - len(i)):\n",
    "            i.append(\" \")\n",
    "            \n",
    "for i, j in enumerate(fpxi_list):\n",
    "    string = \"\"\n",
    "    string += '%-10s' % str(h_list[i])\n",
    "    \n",
    "    for g, h in enumerate(fpxi_list):\n",
    "        string += '%-10s' % fpxi_list[g][i]\n",
    "    \n",
    "    print(string)"
   ]
  },
  {
   "cell_type": "code",
   "execution_count": null,
   "id": "d8828332",
   "metadata": {},
   "outputs": [],
   "source": []
  }
 ],
 "metadata": {
  "kernelspec": {
   "display_name": "Python 3 (ipykernel)",
   "language": "python",
   "name": "python3"
  },
  "language_info": {
   "codemirror_mode": {
    "name": "ipython",
    "version": 3
   },
   "file_extension": ".py",
   "mimetype": "text/x-python",
   "name": "python",
   "nbconvert_exporter": "python",
   "pygments_lexer": "ipython3",
   "version": "3.9.7"
  }
 },
 "nbformat": 4,
 "nbformat_minor": 5
}
