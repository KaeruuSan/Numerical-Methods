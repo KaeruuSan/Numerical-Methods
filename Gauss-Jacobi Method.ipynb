{
 "cells": [
  {
   "cell_type": "markdown",
   "id": "7195cb6a",
   "metadata": {},
   "source": [
    "#### The following problem is solved using the Gauss-Jacobi Method\n",
    "\n",
    "Determine the node voltages using Gauss-Jacobi method. Fill in the tabulated results. Terminate if Ea <= 0.0001 for all variables.\n",
    "\n",
    "-10 =  3V1 + 2V3 - 5V2"
   ]
  },
  {
   "cell_type": "markdown",
   "id": "c4eec568",
   "metadata": {},
   "source": [
    "  6 = -7V3 + 5V1 + 3V2"
   ]
  },
  {
   "cell_type": "markdown",
   "id": "d74459e7",
   "metadata": {},
   "source": [
    " 22 =  5V2 + 7V1 - 3V3\n",
    " \n",
    " #### The function \"normal_round\" is used to round-off values from 0.5 up to 0.9 to 1. This is used instead of the built-in \"round\" function because the \"round\" function rounds the value 0.5 to 0."
   ]
  },
  {
   "cell_type": "code",
   "execution_count": 1,
   "id": "349cc78c",
   "metadata": {},
   "outputs": [],
   "source": [
    "def normal_round(num, ndigits=0):\n",
    "    return round(num + (10**(-1*(ndigits+2))), ndigits)"
   ]
  },
  {
   "cell_type": "markdown",
   "id": "1e5c90a4",
   "metadata": {},
   "source": [
    "#### Input variables are assigned to get the precision (prec), and the terminating condition value (Es)."
   ]
  },
  {
   "cell_type": "code",
   "execution_count": 2,
   "id": "920c8e0a",
   "metadata": {},
   "outputs": [
    {
     "name": "stdout",
     "output_type": "stream",
     "text": [
      "Enter number of decimal places: 4\n",
      "Enter allowable error: 0.0001\n"
     ]
    }
   ],
   "source": [
    "prec = int(input(\"Enter number of decimal places: \"))\n",
    "Es = round(float(input(\"Enter allowable error: \")), prec)"
   ]
  },
  {
   "cell_type": "markdown",
   "id": "00c8c5a2",
   "metadata": {},
   "source": [
    "#### The variable, num_eq, gets the user input of how many equations there are. The list A stores the leading coefficients while C stores the constants of each equation\n",
    "\n",
    "#### During input, each numerical value should be typed seperated by a space for each equation like in the example below."
   ]
  },
  {
   "cell_type": "code",
   "execution_count": 3,
   "id": "df81faee",
   "metadata": {},
   "outputs": [
    {
     "name": "stdout",
     "output_type": "stream",
     "text": [
      "Enter number of equations: 3\n",
      "Input numerical values for equation 1: 7 5 -3 22\n",
      "Input numerical values for equation 2: 3 -5 2 -10\n",
      "Input numerical values for equation 3: 5 3 -7 6\n"
     ]
    }
   ],
   "source": [
    "A = []\n",
    "C = []\n",
    "num_eq = int(input(\"Enter number of equations: \"))\n",
    "for i in range(num_eq): \n",
    "    A.append([])\n",
    "    seta = input(\"Input numerical values for equation \" + str(i+1) + \": \")\n",
    "    for j in seta.split(\" \")[:-1]:\n",
    "        A[-1].append(float(j))\n",
    "    C.append(float(seta.split(\" \")[-1]))"
   ]
  },
  {
   "cell_type": "markdown",
   "id": "96dbad2d",
   "metadata": {},
   "source": [
    "#### The code below will add zeroes to the new \"sorted_C\" list, add a list inside the list \"by_column\". Both variables will be used later when the program tries to sort the equation input above where the dominant coefficients for each unknown variable lies on the main diagonal.\n",
    "\n",
    "#### The initial values of \"X\" is set to zero in this block as well (0 is the initial value of the unknown variables in Gauss-Jacobi Method)."
   ]
  },
  {
   "cell_type": "code",
   "execution_count": 4,
   "id": "a5177caa",
   "metadata": {},
   "outputs": [],
   "source": [
    "sorted_C = []\n",
    "by_column =  []\n",
    "X = []\n",
    "\n",
    "header = [\"k\"]\n",
    "\n",
    "for i in range(num_eq):\n",
    "    by_column.append([])\n",
    "    sorted_C.append(0)\n",
    "    X.append(0) # Sets the initial values of X to zero\n",
    "    \n",
    "    # Append table headers\n",
    "    header.append(\"x\" + str(i+1))"
   ]
  },
  {
   "cell_type": "markdown",
   "id": "5ff4c3d1",
   "metadata": {},
   "source": [
    "#### To easily compare the dominant coefficients, the coefficients of each variable are grouped by column as seen below."
   ]
  },
  {
   "cell_type": "code",
   "execution_count": 5,
   "id": "1913f1cb",
   "metadata": {},
   "outputs": [
    {
     "name": "stdout",
     "output_type": "stream",
     "text": [
      "[[7.0, 3.0, 5.0], [5.0, 5.0, 3.0], [3.0, 2.0, 7.0]]\n"
     ]
    }
   ],
   "source": [
    "sorted_A = []    \n",
    "for i in range(num_eq):\n",
    "    sorted_A.append([0])\n",
    "    for j in range(num_eq):\n",
    "        by_column[j].append(abs(A[i][j]))\n",
    "print(by_column)"
   ]
  },
  {
   "cell_type": "markdown",
   "id": "a326e2d6",
   "metadata": {},
   "source": [
    "#### The for loop function below now checks for the highest coefficient of each variable and sorts the equations accordingly.\n",
    "\n",
    "#### The arrangement of the output below is the same as our initial input which means that our dominant coefficients are already sorted diagonally."
   ]
  },
  {
   "cell_type": "code",
   "execution_count": 6,
   "id": "e7fc5079",
   "metadata": {},
   "outputs": [
    {
     "name": "stdout",
     "output_type": "stream",
     "text": [
      "\n",
      "X = \n",
      "[7.0, 5.0, -3.0]\n",
      "[3.0, -5.0, 2.0]\n",
      "[5.0, 3.0, -7.0]\n",
      "\n",
      "Constants =\n",
      "22.0\n",
      "-10.0\n",
      "6.0\n",
      "\n"
     ]
    }
   ],
   "source": [
    "for i in range(num_eq):\n",
    "    for j in range(num_eq):\n",
    "        if abs(A[i][j]) == max(by_column[j]):\n",
    "            sorted_A[j] = A[i]\n",
    "            sorted_C[j] = C[i]\n",
    "            \n",
    "print(\"\")\n",
    "print(\"X = \")\n",
    "for i in sorted_A:\n",
    "    print(i)\n",
    "print(\"\\nConstants =\")\n",
    "for i in sorted_C:\n",
    "    print(i)\n",
    "print(\"\")"
   ]
  },
  {
   "cell_type": "markdown",
   "id": "1b874227",
   "metadata": {},
   "source": [
    "#### The fstring variable is used to produce a uniform number of decimal places for each output. \n",
    "\n",
    "#### A for loop is used to print-out the first iteration number and the initial values of \"X\"."
   ]
  },
  {
   "cell_type": "code",
   "execution_count": 7,
   "id": "95adf4e1",
   "metadata": {},
   "outputs": [
    {
     "name": "stdout",
     "output_type": "stream",
     "text": [
      "k = 0    x1 = 0.0000    x2 = 0.0000    x3 = 0.0000    \n"
     ]
    }
   ],
   "source": [
    "k = 0\n",
    "fstring = \"{:.\" + str(prec) + \"f}\"\n",
    "print_str = \"k = \" + str(k) + \"    \"\n",
    "for i in range(len(X)):\n",
    "    print_str += \"x\" + str(i+1) + \" = \" + fstring.format(X[i]) + \"    \"\n",
    "print(print_str)"
   ]
  },
  {
   "cell_type": "markdown",
   "id": "f9542aae",
   "metadata": {},
   "source": [
    "#### The following block of code is the loop of the Gauss-Jacobi Method until it satisfies the terminating condition of each variable.\n",
    "\n",
    "The variable \"test\" is used to get the absolute value of the difference of the previous and new iteration of X respectively. If \"test\" is less than the terminating value \"Es\", it would increment the variable \"hit\" by 1.\n",
    "\n",
    "The variable \"hit\" is used to determine the number of variable X's that satisfied the terminating condition. If the variable \"hit\" is equal to the number of equations it would mean that all the variable X's reached the terminating condition therefore terminating the loop."
   ]
  },
  {
   "cell_type": "code",
   "execution_count": 8,
   "id": "aaab3100",
   "metadata": {},
   "outputs": [
    {
     "name": "stdout",
     "output_type": "stream",
     "text": [
      "k = 1    x1 = 3.1429    x2 = 2.0000    x3 = -0.8571    \n",
      "k = 2    x1 = 1.3470    x2 = 3.5429    x3 = 2.2449    \n",
      "k = 3    x1 = 1.5743    x2 = 3.7062    x3 = 1.6234    \n",
      "k = 4    x1 = 1.1913    x2 = 3.5939    x3 = 1.8557    \n",
      "k = 5    x1 = 1.3711    x2 = 3.4571    x3 = 1.5340    \n",
      "k = 6    x1 = 1.3309    x2 = 3.4363    x3 = 1.6038    \n",
      "k = 7    x1 = 1.3757    x2 = 3.4401    x3 = 1.5662    \n",
      "k = 8    x1 = 1.3569    x2 = 3.4519    x3 = 1.5998    \n",
      "k = 9    x1 = 1.3628    x2 = 3.4541    x3 = 1.5915    \n",
      "k = 10    x1 = 1.3577    x2 = 3.4543    x3 = 1.5966    \n",
      "k = 11    x1 = 1.3598    x2 = 3.4533    x3 = 1.5931    \n",
      "k = 12    x1 = 1.3590    x2 = 3.4531    x3 = 1.5941    \n",
      "k = 13    x1 = 1.3595    x2 = 3.4530    x3 = 1.5935    \n",
      "k = 14    x1 = 1.3594    x2 = 3.4531    x3 = 1.5938    \n",
      "k = 15    x1 = 1.3594    x2 = 3.4532    x3 = 1.5938    \n"
     ]
    }
   ],
   "source": [
    "while True:\n",
    "    k += 1\n",
    "    print_str = \"k = \" + str(k) + \"    \"\n",
    "    X_new = []\n",
    "    for i in range(num_eq):\n",
    "        X_new.append(0)\n",
    "    \n",
    "    for i in range(len(sorted_A)):\n",
    "        row_sum = 0\n",
    "        for j in range(len(sorted_A[i])):\n",
    "            if i != j:\n",
    "                row_sum += (sorted_A[i][j]) * X[j]\n",
    "\n",
    "        X_new[i] = normal_round((sorted_C[i] - row_sum) / sorted_A[i][i],  prec)\n",
    "    \n",
    "    \n",
    "    for i in range(len(X)):\n",
    "        print_str += \"x\" + str(i+1) + \" = \" + fstring.format(X_new[i]) + \"    \"\n",
    "    print(print_str)\n",
    "    \n",
    "    hit = 0\n",
    "    for i in range(len(X)):\n",
    "        test = 0\n",
    "        test = abs(X_new[i] - X[i])\n",
    "        \n",
    "        if test <= Es:\n",
    "            hit += 1 \n",
    "        \n",
    "    if hit == len(A):\n",
    "        break\n",
    "        \n",
    "    X = X_new"
   ]
  },
  {
   "cell_type": "markdown",
   "id": "52977645",
   "metadata": {},
   "source": [
    "#### Finally, the following block of code is utilized to show the calculated values of x."
   ]
  },
  {
   "cell_type": "code",
   "execution_count": 9,
   "id": "cb7f953b",
   "metadata": {},
   "outputs": [
    {
     "name": "stdout",
     "output_type": "stream",
     "text": [
      "\n",
      "After 15 iterations, the roots are x1 = 1.3594 x2 = 3.4532 x3 = 1.5938 \n"
     ]
    }
   ],
   "source": [
    "print_str = \"\\nAfter \" + str(k) + \" iterations, the roots are \"\n",
    "for i in range(len(X)): \n",
    "    print_str += \"x\" + str(i+1) + \" = \" + fstring.format(X_new[i]) + \" \"\n",
    "print(print_str)"
   ]
  },
  {
   "cell_type": "markdown",
   "id": "05873220",
   "metadata": {},
   "source": [
    "## Full Code and Output"
   ]
  },
  {
   "cell_type": "code",
   "execution_count": 10,
   "id": "36c14b1f",
   "metadata": {},
   "outputs": [
    {
     "name": "stdout",
     "output_type": "stream",
     "text": [
      "Enter number of decimal places: 4\n",
      "Enter allowable error: 0.0001\n",
      "Enter number of equations: 3\n",
      "Input numerical values for equation 1: 7 5 -3 22\n",
      "Input numerical values for equation 2: 3 -5 2 -10\n",
      "Input numerical values for equation 3: 5 3 -7 6\n",
      "\n",
      "X = \n",
      "[7.0, 5.0, -3.0]\n",
      "[3.0, -5.0, 2.0]\n",
      "[5.0, 3.0, -7.0]\n",
      "\n",
      "Constants =\n",
      "22.0\n",
      "-10.0\n",
      "6.0\n",
      "\n",
      "k = 0    x1 = 0.0000    x2 = 0.0000    x3 = 0.0000    \n",
      "k = 1    x1 = 3.1429    x2 = 2.0000    x3 = -0.8571    \n",
      "k = 2    x1 = 1.3470    x2 = 3.5429    x3 = 2.2449    \n",
      "k = 3    x1 = 1.5743    x2 = 3.7062    x3 = 1.6234    \n",
      "k = 4    x1 = 1.1913    x2 = 3.5939    x3 = 1.8557    \n",
      "k = 5    x1 = 1.3711    x2 = 3.4571    x3 = 1.5340    \n",
      "k = 6    x1 = 1.3309    x2 = 3.4363    x3 = 1.6038    \n",
      "k = 7    x1 = 1.3757    x2 = 3.4401    x3 = 1.5662    \n",
      "k = 8    x1 = 1.3569    x2 = 3.4519    x3 = 1.5998    \n",
      "k = 9    x1 = 1.3628    x2 = 3.4541    x3 = 1.5915    \n",
      "k = 10    x1 = 1.3577    x2 = 3.4543    x3 = 1.5966    \n",
      "k = 11    x1 = 1.3598    x2 = 3.4533    x3 = 1.5931    \n",
      "k = 12    x1 = 1.3590    x2 = 3.4531    x3 = 1.5941    \n",
      "k = 13    x1 = 1.3595    x2 = 3.4530    x3 = 1.5935    \n",
      "k = 14    x1 = 1.3594    x2 = 3.4531    x3 = 1.5938    \n",
      "k = 15    x1 = 1.3594    x2 = 3.4532    x3 = 1.5938    \n",
      "\n",
      "After 15 iterations, the roots are x1 = 1.3594 x2 = 3.4532 x3 = 1.5938 \n"
     ]
    }
   ],
   "source": [
    "def normal_round(num, ndigits=0):\n",
    "    return round(num + (10**(-1*(ndigits+2))), ndigits)\n",
    "\n",
    "prec = int(input(\"Enter number of decimal places: \"))\n",
    "Es = round(float(input(\"Enter allowable error: \")), prec)\n",
    "\n",
    "A = []\n",
    "C = []\n",
    "num_eq = int(input(\"Enter number of equations: \"))\n",
    "for i in range(num_eq): \n",
    "    A.append([])\n",
    "    seta = input(\"Input numerical values for equation \" + str(i+1) + \": \")\n",
    "    for j in seta.split(\" \")[:-1]:\n",
    "        A[-1].append(float(j))\n",
    "    C.append(float(seta.split(\" \")[-1]))\n",
    "    \n",
    "sorted_C = []\n",
    "by_column =  []\n",
    "X = []\n",
    "\n",
    "header = [\"k\"]\n",
    "\n",
    "for i in range(num_eq):\n",
    "    by_column.append([])\n",
    "    sorted_C.append(0)\n",
    "    X.append(0) # Sets the initial values of X to zero\n",
    "    \n",
    "    # Append table headers\n",
    "    header.append(\"x\" + str(i+1))\n",
    "    \n",
    "sorted_A = []    \n",
    "for i in range(num_eq):\n",
    "    sorted_A.append([0])\n",
    "    for j in range(num_eq):\n",
    "        by_column[j].append(abs(A[i][j]))\n",
    "\n",
    "for i in range(num_eq):\n",
    "    for j in range(num_eq):\n",
    "        if abs(A[i][j]) == max(by_column[j]):\n",
    "            sorted_A[j] = A[i]\n",
    "            sorted_C[j] = C[i]\n",
    "            \n",
    "print(\"\")\n",
    "print(\"X = \")\n",
    "for i in sorted_A:\n",
    "    print(i)\n",
    "print(\"\\nConstants =\")\n",
    "for i in sorted_C:\n",
    "    print(i)\n",
    "print(\"\")\n",
    "\n",
    "k = 0\n",
    "fstring = \"{:.\" + str(prec) + \"f}\"\n",
    "print_str = \"k = \" + str(k) + \"    \"\n",
    "for i in range(len(X)):\n",
    "    print_str += \"x\" + str(i+1) + \" = \" + fstring.format(X[i]) + \"    \"\n",
    "print(print_str)\n",
    "\n",
    "while True:\n",
    "    k += 1\n",
    "    print_str = \"k = \" + str(k) + \"    \"\n",
    "    X_new = []\n",
    "    for i in range(num_eq):\n",
    "        X_new.append(0)\n",
    "    \n",
    "    for i in range(len(sorted_A)):\n",
    "        row_sum = 0\n",
    "        for j in range(len(sorted_A[i])):\n",
    "            if i != j:\n",
    "                row_sum += (sorted_A[i][j]) * X[j]\n",
    "\n",
    "        X_new[i] = normal_round((sorted_C[i] - row_sum) / sorted_A[i][i],  prec)\n",
    "    \n",
    "    \n",
    "    for i in range(len(X)):\n",
    "        print_str += \"x\" + str(i+1) + \" = \" + fstring.format(X_new[i]) + \"    \"\n",
    "    print(print_str)\n",
    "    \n",
    "    hit = 0\n",
    "    for i in range(len(X)):\n",
    "        test = 0\n",
    "        test = abs(X_new[i] - X[i])\n",
    "        \n",
    "        if test <= Es:\n",
    "            hit += 1 \n",
    "        \n",
    "    if hit == len(A):\n",
    "        break\n",
    "        \n",
    "    X = X_new\n",
    "    \n",
    "print_str = \"\\nAfter \" + str(k) + \" iterations, the roots are \"\n",
    "for i in range(len(X)): \n",
    "    print_str += \"x\" + str(i+1) + \" = \" + fstring.format(X_new[i]) + \" \"\n",
    "print(print_str)"
   ]
  }
 ],
 "metadata": {
  "kernelspec": {
   "display_name": "Python 3 (ipykernel)",
   "language": "python",
   "name": "python3"
  },
  "language_info": {
   "codemirror_mode": {
    "name": "ipython",
    "version": 3
   },
   "file_extension": ".py",
   "mimetype": "text/x-python",
   "name": "python",
   "nbconvert_exporter": "python",
   "pygments_lexer": "ipython3",
   "version": "3.9.7"
  }
 },
 "nbformat": 4,
 "nbformat_minor": 5
}
