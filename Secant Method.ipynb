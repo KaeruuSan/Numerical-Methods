{
 "cells": [
  {
   "cell_type": "markdown",
   "id": "0d84860a",
   "metadata": {},
   "source": [
    "#### The following problem is solved using the Secant Method."
   ]
  },
  {
   "cell_type": "markdown",
   "id": "9f69d120",
   "metadata": {},
   "source": [
    "In Ocean Engineering, the equation for the reflected standing wave in a harbor is given below. If λ = 16, t = 12, and v = 48\n",
    "determine x when h = 0.4h0 using Secant Method. Fill in the table of results."
   ]
  },
  {
   "cell_type": "markdown",
   "id": "c4375cda",
   "metadata": {},
   "source": [
    "#### h = h0(sin(2πx/λ)cos(2πtv/λ) + e^(-x))"
   ]
  },
  {
   "cell_type": "markdown",
   "id": "85926395",
   "metadata": {},
   "source": [
    "The following function, def f(x), takes the equation input by the user. The user is expected to know the proper \"Pythonic\" syntax of typing the equation.\n",
    "\n",
    "The \"Pythonic\" way of typing the equation above is shown at the example below."
   ]
  },
  {
   "cell_type": "code",
   "execution_count": 1,
   "id": "e3076ac6",
   "metadata": {},
   "outputs": [
    {
     "name": "stdout",
     "output_type": "stream",
     "text": [
      "Enter you equation here: math.sin(2*math.pi*x/16)*math.cos(2*math.pi*12*48/16)+math.e**(-x) - 0.4\n"
     ]
    }
   ],
   "source": [
    "import math\n",
    "equation = input(\"Enter you equation here: \")\n",
    "def f(x):\n",
    "    fx = eval(equation)\n",
    "    return fx"
   ]
  },
  {
   "cell_type": "markdown",
   "id": "1701a51c",
   "metadata": {},
   "source": [
    "#### The function \"normal_round\" is used to round-off values from 0.5 up to 0.9 to 1. This is used instead of the built-in \"round\" function because the \"round\" function rounds the value 0.5 to 0."
   ]
  },
  {
   "cell_type": "code",
   "execution_count": 2,
   "id": "403dfcf6",
   "metadata": {},
   "outputs": [],
   "source": [
    "def normal_round(num, ndigits=0):\n",
    "    return round(num + (10**(-1*(ndigits+2))), ndigits)"
   ]
  },
  {
   "cell_type": "markdown",
   "id": "effb5803",
   "metadata": {},
   "source": [
    "#### Input variables are assigned to get the precision (prec), initial values (x0 and x1), and the terminating condition value (e)."
   ]
  },
  {
   "cell_type": "code",
   "execution_count": 3,
   "id": "96966128",
   "metadata": {},
   "outputs": [
    {
     "name": "stdout",
     "output_type": "stream",
     "text": [
      "Enter number  of decimal places: 4\n",
      "Enter value for x0: 6\n",
      "Enter value for x1: 7\n",
      "Enter allowable error: 0.0001\n"
     ]
    }
   ],
   "source": [
    "prec = int(input(\"Enter number  of decimal places: \"))\n",
    "x0 = normal_round(float(input(\"Enter value for x0: \")), prec)\n",
    "x1 = normal_round(float(input(\"Enter value for x1: \")), prec)\n",
    "e = normal_round(float(input(\"Enter allowable error: \")), prec)"
   ]
  },
  {
   "cell_type": "markdown",
   "id": "cfea31ed",
   "metadata": {},
   "source": [
    "#### The following variables are assigned to handle the Tabulated Results later in the output"
   ]
  },
  {
   "cell_type": "code",
   "execution_count": 4,
   "id": "8713b6b8",
   "metadata": {},
   "outputs": [],
   "source": [
    "header = [\"Iteration\", \"x0\", \"x2\", \"x1\", \"fx0\", \"fx1\", \"fx2\", \"|fx2|\"]\n",
    "lstring = \"{:<15}\" * (len(header))\n",
    "\n",
    "lfx0 = []\n",
    "lfx1 = []\n",
    "lx2 = []\n",
    "lfx2 = []\n",
    "labsfx2 = []\n",
    "lx0 = []\n",
    "lx1 = []\n",
    "    \n",
    "lx0.append(x0)\n",
    "lx1.append(x1)"
   ]
  },
  {
   "cell_type": "markdown",
   "id": "3e89789a",
   "metadata": {},
   "source": [
    "#### The fstring variable is used to produce a uniform number of decimal places for each output."
   ]
  },
  {
   "cell_type": "code",
   "execution_count": 5,
   "id": "953e1593",
   "metadata": {},
   "outputs": [],
   "source": [
    "fstring = \"{:.\" + str(prec) + \"f}\""
   ]
  },
  {
   "cell_type": "markdown",
   "id": "14eb0b8a",
   "metadata": {},
   "source": [
    "The following block of code is the loop of the Secant Method until it satisfies the terminating condition"
   ]
  },
  {
   "cell_type": "markdown",
   "id": "cdb53f08",
   "metadata": {},
   "source": [
    "#### if (abs(fx1) <= e):"
   ]
  },
  {
   "cell_type": "markdown",
   "id": "1dad8473",
   "metadata": {},
   "source": [
    "else, if the terminating condition is yet to be satisfied, the following substitutions are performed"
   ]
  },
  {
   "cell_type": "markdown",
   "id": "16879755",
   "metadata": {},
   "source": [
    "#### x0  =  x1\n",
    "#### x1  =  x2"
   ]
  },
  {
   "cell_type": "markdown",
   "id": "70f91f18",
   "metadata": {},
   "source": [
    "The variable n is increased by increments of 1 for each completed loop."
   ]
  },
  {
   "cell_type": "code",
   "execution_count": 6,
   "id": "a07f6e3e",
   "metadata": {},
   "outputs": [
    {
     "name": "stdout",
     "output_type": "stream",
     "text": [
      "ITERATION 0\n",
      "fx0  =  0.3096\n",
      "fx1  =  -0.0164\n",
      "x2  =  7.0000 - -0.0164 x [(7.0000 - 6.0000) / (-0.0164 - 0.3096)]  =  6.9497\n",
      "fx2  =  0.0018\n",
      "abs(fx2)  =  0.0018\n",
      "x0 =  6.0000     x2 =  6.9497      x1 =  7.0000     fx2 =  0.0018\n",
      "x1 -------> x0\n",
      "x2 -------> x1\n",
      "\n",
      "ITERATION 1\n",
      "fx0  =  -0.0164\n",
      "fx1  =  0.0018\n",
      "x2  =  6.9497 - 0.0018 x [(6.9497 - 7.0000) / (0.0018 - -0.0164)]  =  6.9547\n",
      "fx2  =  0.0000\n",
      "abs(fx2)  =  0.0000\n",
      "x0 =  7.0000     x2 =  6.9547      x1 =  6.9497     fx2 =  0.0000\n",
      "x1 -------> x0\n",
      "x2 -------> x1\n",
      "\n",
      "ITERATION 2\n",
      "fx0  =  0.0018\n",
      "fx1  =  0.0000\n",
      "x2  =  6.9547 - 0.0000 x [(6.9547 - 6.9497) / (0.0000 - 0.0018)]  =  6.9547\n",
      "fx2  =  0.0000\n",
      "abs(fx2)  =  0.0000\n",
      "x0 =  6.9497     x2 =  6.9547      x1 =  6.9547     fx2 =  0.0000\n"
     ]
    }
   ],
   "source": [
    "n = 0\n",
    "while True:\n",
    "    print(\"ITERATION \" + str(n))\n",
    "    fx0 = normal_round(f(x0), prec)\n",
    "    lfx0.append(fx0)\n",
    "    print(\"fx0  =  \" + fstring.format(fx0))\n",
    "    fx1 = normal_round(f(x1), prec)\n",
    "    lfx1.append(fx1)\n",
    "    print(\"fx1  =  \" + fstring.format(fx1))\n",
    "            \n",
    "    x2 = normal_round(x1 - fx1 * ((x1-x0)/(fx1-fx0)), prec)\n",
    "    lx2.append(x2)\n",
    "    print (\"x2  =  \" + fstring.format(x1) + \" - \" + fstring.format(fx1) + \" x [(\" +\n",
    "              fstring.format(x1) + \" - \" + fstring.format(x0) + \") / (\" + fstring.format(fx1) + \" - \"\n",
    "              + fstring.format(fx0) + \")]  =  \" + fstring.format(x2))\n",
    "        \n",
    "    fx2 = normal_round(f(x2), prec)\n",
    "    lfx2.append(fx2)\n",
    "    labsfx2.append(abs(fx2))\n",
    "    print(\"fx2  =  \" + fstring.format(fx2))\n",
    "    print(\"abs(fx2)  =  \" + fstring.format(abs(fx2)))\n",
    "    print(\"x0 = \", fstring.format(x0), \"    x2 = \", fstring.format(x2), \"     x1 = \", fstring.format(x1), \n",
    "          \"    fx2 = \", fstring.format(fx2))\n",
    "        \n",
    "    if (abs(fx1) <= e):\n",
    "        break\n",
    "            \n",
    "    x0 = x1\n",
    "    lx0.append(x0)\n",
    "    print(\"x1 -------> x0\")\n",
    "    x1 = x2\n",
    "    lx1.append(x1)\n",
    "    print(\"x2 -------> x1\")\n",
    "    print(\"\")\n",
    "    n += 1"
   ]
  },
  {
   "cell_type": "markdown",
   "id": "139b41a6",
   "metadata": {},
   "source": [
    "#### Finally, the following block of code is utilized to show the Tabulated Results and the calculated root (x2)."
   ]
  },
  {
   "cell_type": "code",
   "execution_count": 7,
   "id": "9a6652ed",
   "metadata": {},
   "outputs": [
    {
     "name": "stdout",
     "output_type": "stream",
     "text": [
      "\n",
      "Tabulated Results\n",
      "Iteration      x0             x2             x1             fx0            fx1            fx2            |fx2|          \n",
      "0              6.0000         6.9497         7.0000         0.3096         -0.0164        0.0018         0.0018         \n",
      "1              7.0000         6.9547         6.9497         -0.0164        0.0018         0.0000         0.0000         \n",
      "2              6.9497         6.9547         6.9547         0.0018         0.0000         0.0000         0.0000         \n",
      "\n",
      "Root (x2) is  equal to:  6.9547 \n",
      "\n"
     ]
    }
   ],
   "source": [
    "print(\"\\nTabulated Results\")\n",
    "print(lstring.format(*header))\n",
    "for i in range(len(lx0)):\n",
    "    print('%-15s%-15s%-15s%-15s%-15s%-15s%-15s%-15s' % (str(i), fstring.format(lx0[i]), fstring.format(lx2[i]),\n",
    "                                       fstring.format(lx1[i]), fstring.format(lfx0[i]), fstring.format(lfx1[i]),\n",
    "                                       fstring.format(lfx2[i]), fstring.format(labsfx2[i])))\n",
    "        \n",
    "print(\"\\nRoot (x2) is  equal to: \", fstring.format(x2), \"\\n\")"
   ]
  },
  {
   "cell_type": "markdown",
   "id": "a5326360",
   "metadata": {},
   "source": [
    "## Full Code and Output"
   ]
  },
  {
   "cell_type": "code",
   "execution_count": 1,
   "id": "f28a21fd",
   "metadata": {},
   "outputs": [
    {
     "name": "stdout",
     "output_type": "stream",
     "text": [
      "Enter you equation here: math.sin(2*math.pi*x/16)*math.cos(2*math.pi*12*48/16)+math.e**(-x) - 0.4\n",
      "Enter number  of decimal places: 4\n",
      "Enter value for x0: 6\n",
      "Enter value for x1: 7\n",
      "Enter allowable error: 0.0001\n",
      "ITERATION 0\n",
      "fx0  =  0.3096\n",
      "fx1  =  -0.0164\n",
      "x2  =  7.0000 - -0.0164 x [(7.0000 - 6.0000) / (-0.0164 - 0.3096)]  =  6.9497\n",
      "fx2  =  0.0018\n",
      "abs(fx2)  =  0.0018\n",
      "x0 =  6.0000     x2 =  6.9497      x1 =  7.0000     fx2 =  0.0018\n",
      "x1 -------> x0\n",
      "x2 -------> x1\n",
      "\n",
      "ITERATION 1\n",
      "fx0  =  -0.0164\n",
      "fx1  =  0.0018\n",
      "x2  =  6.9497 - 0.0018 x [(6.9497 - 7.0000) / (0.0018 - -0.0164)]  =  6.9547\n",
      "fx2  =  0.0000\n",
      "abs(fx2)  =  0.0000\n",
      "x0 =  7.0000     x2 =  6.9547      x1 =  6.9497     fx2 =  0.0000\n",
      "x1 -------> x0\n",
      "x2 -------> x1\n",
      "\n",
      "ITERATION 2\n",
      "fx0  =  0.0018\n",
      "fx1  =  0.0000\n",
      "x2  =  6.9547 - 0.0000 x [(6.9547 - 6.9497) / (0.0000 - 0.0018)]  =  6.9547\n",
      "fx2  =  0.0000\n",
      "abs(fx2)  =  0.0000\n",
      "x0 =  6.9497     x2 =  6.9547      x1 =  6.9547     fx2 =  0.0000\n",
      "\n",
      "Tabulated Results\n",
      "Iteration      x0             x2             x1             fx0            fx1            fx2            |fx2|          \n",
      "0              6.0000         6.9497         7.0000         0.3096         -0.0164        0.0018         0.0018         \n",
      "1              7.0000         6.9547         6.9497         -0.0164        0.0018         0.0000         0.0000         \n",
      "2              6.9497         6.9547         6.9547         0.0018         0.0000         0.0000         0.0000         \n",
      "\n",
      "Root (x2) is  equal to:  6.9547 \n",
      "\n"
     ]
    }
   ],
   "source": [
    "import math\n",
    "\n",
    "equation = input(\"Enter you equation here: \")\n",
    "def f(x):\n",
    "    fx = eval(equation)\n",
    "    return fx\n",
    "\n",
    "def normal_round(num, ndigits=0):\n",
    "    return round(num + (10**(-1*(ndigits+2))), ndigits)\n",
    "\n",
    "prec = int(input(\"Enter number  of decimal places: \"))\n",
    "x0 = normal_round(float(input(\"Enter value for x0: \")), prec)\n",
    "x1 = normal_round(float(input(\"Enter value for x1: \")), prec)\n",
    "e = normal_round(float(input(\"Enter allowable error: \")), prec)\n",
    "\n",
    "header = [\"Iteration\", \"x0\", \"x2\", \"x1\", \"fx0\", \"fx1\", \"fx2\", \"|fx2|\"]\n",
    "lstring = \"{:<15}\" * (len(header))\n",
    "\n",
    "lfx0 = []\n",
    "lfx1 = []\n",
    "lx2 = []\n",
    "lfx2 = []\n",
    "labsfx2 = []\n",
    "lx0 = []\n",
    "lx1 = []\n",
    "    \n",
    "lx0.append(x0)\n",
    "lx1.append(x1)\n",
    "\n",
    "fstring = \"{:.\" + str(prec) + \"f}\"\n",
    "\n",
    "n = 0\n",
    "while True:\n",
    "    print(\"ITERATION \" + str(n))\n",
    "    fx0 = normal_round(f(x0), prec)\n",
    "    lfx0.append(fx0)\n",
    "    print(\"fx0  =  \" + fstring.format(fx0))\n",
    "    fx1 = normal_round(f(x1), prec)\n",
    "    lfx1.append(fx1)\n",
    "    print(\"fx1  =  \" + fstring.format(fx1))\n",
    "            \n",
    "    x2 = normal_round(x1 - fx1 * ((x1-x0)/(fx1-fx0)), prec)\n",
    "    lx2.append(x2)\n",
    "    print (\"x2  =  \" + fstring.format(x1) + \" - \" + fstring.format(fx1) + \" x [(\" +\n",
    "              fstring.format(x1) + \" - \" + fstring.format(x0) + \") / (\" + fstring.format(fx1) + \" - \"\n",
    "              + fstring.format(fx0) + \")]  =  \" + fstring.format(x2))\n",
    "        \n",
    "    fx2 = normal_round(f(x2), prec)\n",
    "    lfx2.append(fx2)\n",
    "    labsfx2.append(abs(fx2))\n",
    "    print(\"fx2  =  \" + fstring.format(fx2))\n",
    "    print(\"abs(fx2)  =  \" + fstring.format(abs(fx2)))\n",
    "    print(\"x0 = \", fstring.format(x0), \"    x2 = \", fstring.format(x2), \"     x1 = \", fstring.format(x1), \n",
    "          \"    fx2 = \", fstring.format(fx2))\n",
    "        \n",
    "    if (abs(fx1) <= e):\n",
    "        break\n",
    "            \n",
    "    x0 = x1\n",
    "    lx0.append(x0)\n",
    "    print(\"x1 -------> x0\")\n",
    "    x1 = x2\n",
    "    lx1.append(x1)\n",
    "    print(\"x2 -------> x1\")\n",
    "    print(\"\")\n",
    "    n += 1\n",
    "\n",
    "print(\"\\nTabulated Results\")\n",
    "print(lstring.format(*header))\n",
    "for i in range(len(lx0)):\n",
    "    print('%-15s%-15s%-15s%-15s%-15s%-15s%-15s%-15s' % (str(i), fstring.format(lx0[i]), fstring.format(lx2[i]),\n",
    "                                       fstring.format(lx1[i]), fstring.format(lfx0[i]), fstring.format(lfx1[i]),\n",
    "                                       fstring.format(lfx2[i]), fstring.format(labsfx2[i])))\n",
    "        \n",
    "print(\"\\nRoot (x2) is  equal to: \", fstring.format(x2), \"\\n\")"
   ]
  }
 ],
 "metadata": {
  "kernelspec": {
   "display_name": "Python 3 (ipykernel)",
   "language": "python",
   "name": "python3"
  },
  "language_info": {
   "codemirror_mode": {
    "name": "ipython",
    "version": 3
   },
   "file_extension": ".py",
   "mimetype": "text/x-python",
   "name": "python",
   "nbconvert_exporter": "python",
   "pygments_lexer": "ipython3",
   "version": "3.9.7"
  }
 },
 "nbformat": 4,
 "nbformat_minor": 5
}
